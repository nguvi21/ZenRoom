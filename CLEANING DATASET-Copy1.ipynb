{
 "cells": [
  {
   "cell_type": "code",
   "execution_count": 1,
   "id": "aa406700",
   "metadata": {},
   "outputs": [
    {
     "data": {
      "text/html": [
       "<div>\n",
       "<style scoped>\n",
       "    .dataframe tbody tr th:only-of-type {\n",
       "        vertical-align: middle;\n",
       "    }\n",
       "\n",
       "    .dataframe tbody tr th {\n",
       "        vertical-align: top;\n",
       "    }\n",
       "\n",
       "    .dataframe thead th {\n",
       "        text-align: right;\n",
       "    }\n",
       "</style>\n",
       "<table border=\"1\" class=\"dataframe\">\n",
       "  <thead>\n",
       "    <tr style=\"text-align: right;\">\n",
       "      <th></th>\n",
       "      <th>ID</th>\n",
       "      <th>Kode</th>\n",
       "      <th>Nama</th>\n",
       "      <th>Lantai</th>\n",
       "      <th>Fakultas</th>\n",
       "      <th>Status</th>\n",
       "      <th>Kapasitas</th>\n",
       "      <th>Luas</th>\n",
       "      <th>Rating</th>\n",
       "      <th>Tujuan</th>\n",
       "    </tr>\n",
       "  </thead>\n",
       "  <tbody>\n",
       "    <tr>\n",
       "      <th>0</th>\n",
       "      <td>739</td>\n",
       "      <td>NaN</td>\n",
       "      <td>Ruang Scienfic Lecture Hall</td>\n",
       "      <td>1</td>\n",
       "      <td>TPB</td>\n",
       "      <td>Tidak Aktif</td>\n",
       "      <td>500</td>\n",
       "      <td>750.00</td>\n",
       "      <td>4.2</td>\n",
       "      <td>Sidang</td>\n",
       "    </tr>\n",
       "    <tr>\n",
       "      <th>1</th>\n",
       "      <td>736</td>\n",
       "      <td>103</td>\n",
       "      <td>NaN</td>\n",
       "      <td>1</td>\n",
       "      <td>TPB</td>\n",
       "      <td>Tidak Aktif</td>\n",
       "      <td>210</td>\n",
       "      <td>0.00</td>\n",
       "      <td>4.3</td>\n",
       "      <td>Kelas</td>\n",
       "    </tr>\n",
       "    <tr>\n",
       "      <th>2</th>\n",
       "      <td>227</td>\n",
       "      <td>303</td>\n",
       "      <td>AULA</td>\n",
       "      <td>3</td>\n",
       "      <td>Fakultas Keguruan dan Ilmu Pendidikan</td>\n",
       "      <td>Aktif</td>\n",
       "      <td>200</td>\n",
       "      <td>218.90</td>\n",
       "      <td>3.9</td>\n",
       "      <td>Seminar</td>\n",
       "    </tr>\n",
       "    <tr>\n",
       "      <th>3</th>\n",
       "      <td>83</td>\n",
       "      <td>102</td>\n",
       "      <td>NaN</td>\n",
       "      <td>1</td>\n",
       "      <td>Fakultas Teknik</td>\n",
       "      <td>Tidak Aktif</td>\n",
       "      <td>200</td>\n",
       "      <td>1108.42</td>\n",
       "      <td>3.5</td>\n",
       "      <td>Sidang</td>\n",
       "    </tr>\n",
       "    <tr>\n",
       "      <th>4</th>\n",
       "      <td>193</td>\n",
       "      <td>NaN</td>\n",
       "      <td>Ruang Sidang Senat</td>\n",
       "      <td>3</td>\n",
       "      <td>Fakultas Keguruan dan Ilmu Pendidikan</td>\n",
       "      <td>Aktif</td>\n",
       "      <td>200</td>\n",
       "      <td>296.00</td>\n",
       "      <td>3.9</td>\n",
       "      <td>Seminar</td>\n",
       "    </tr>\n",
       "  </tbody>\n",
       "</table>\n",
       "</div>"
      ],
      "text/plain": [
       "    ID Kode                         Nama  Lantai  \\\n",
       "0  739  NaN  Ruang Scienfic Lecture Hall       1   \n",
       "1  736  103                          NaN       1   \n",
       "2  227  303                         AULA       3   \n",
       "3   83  102                          NaN       1   \n",
       "4  193  NaN           Ruang Sidang Senat       3   \n",
       "\n",
       "                                Fakultas       Status  Kapasitas     Luas  \\\n",
       "0                                    TPB  Tidak Aktif        500   750.00   \n",
       "1                                    TPB  Tidak Aktif        210     0.00   \n",
       "2  Fakultas Keguruan dan Ilmu Pendidikan        Aktif        200   218.90   \n",
       "3                        Fakultas Teknik  Tidak Aktif        200  1108.42   \n",
       "4  Fakultas Keguruan dan Ilmu Pendidikan        Aktif        200   296.00   \n",
       "\n",
       "   Rating   Tujuan  \n",
       "0     4.2   Sidang  \n",
       "1     4.3    Kelas  \n",
       "2     3.9  Seminar  \n",
       "3     3.5   Sidang  \n",
       "4     3.9  Seminar  "
      ]
     },
     "execution_count": 1,
     "metadata": {},
     "output_type": "execute_result"
    }
   ],
   "source": [
    "import pandas as pd\n",
    "# Path to the CSV file\n",
    "file_path = 'dataset_ruangan.csv'\n",
    "\n",
    "# Load the CSV file into a DataFrame\n",
    "df = pd.read_csv(file_path)\n",
    "\n",
    "df.head()"
   ]
  },
  {
   "cell_type": "markdown",
   "id": "a46659e9",
   "metadata": {},
   "source": [
    "import pandas as pd\n",
    "# Path to the CSV file\n",
    "file_path = r'C:\\Users\\user\\Documents\\ZENROOM\\dataset_ruangan.csv'\n",
    "\n",
    "# Load the CSV file into a DataFrame\n",
    "df = pd.read_csv(file_path)\n",
    "\n",
    "df.head()"
   ]
  },
  {
   "cell_type": "code",
   "execution_count": 2,
   "id": "e514e80e",
   "metadata": {},
   "outputs": [
    {
     "name": "stdout",
     "output_type": "stream",
     "text": [
      "      ID        Kode                    Nama  Lantai  \\\n",
      "2    227         303                    AULA       3   \n",
      "4    193         NaN      Ruang Sidang Senat       3   \n",
      "7    507        B3-E                 Kelas E       3   \n",
      "8    510        B2-D                 Kelas D       2   \n",
      "9    577     ATB.3.1                 ATB.3.1       3   \n",
      "..   ...         ...                     ...     ...   \n",
      "875  374       B.1.6      R. WAKIL DEKAN III       1   \n",
      "876  375       B.1.4                  R. KTU       1   \n",
      "878  380      B.1.11         R. PERLENGKAPAN       1   \n",
      "879  384     B.2.2.1  R. KASUB KEMAHASISWAAN       2   \n",
      "894  347  A.D.1.Lab1            Lab Komputer       1   \n",
      "\n",
      "                                          Fakultas Status  Kapasitas   Luas  \\\n",
      "2            Fakultas Keguruan dan Ilmu Pendidikan  Aktif        200  218.9   \n",
      "4            Fakultas Keguruan dan Ilmu Pendidikan  Aktif        200  296.0   \n",
      "7                              Fakultas Kedokteran  Aktif        160  220.0   \n",
      "8                              Fakultas Kedokteran  Aktif        160  220.0   \n",
      "9                              Fakultas Peternakan  Aktif        150  150.0   \n",
      "..                                             ...    ...        ...    ...   \n",
      "875  Fakultas Matematika dan Ilmu Pengetahuan Alam  Aktif          1   22.4   \n",
      "876  Fakultas Matematika dan Ilmu Pengetahuan Alam  Aktif          1   22.4   \n",
      "878  Fakultas Matematika dan Ilmu Pengetahuan Alam  Aktif          1   24.0   \n",
      "879  Fakultas Matematika dan Ilmu Pengetahuan Alam  Aktif          1   24.0   \n",
      "894                               Fakultas Ekonomi  Aktif          0    0.0   \n",
      "\n",
      "     Rating   Tujuan  \n",
      "2       3.9  Seminar  \n",
      "4       3.9  Seminar  \n",
      "7       3.9    Kelas  \n",
      "8       3.6  Seminar  \n",
      "9       3.5  Seminar  \n",
      "..      ...      ...  \n",
      "875     4.0  Seminar  \n",
      "876     3.4   Sidang  \n",
      "878     4.1   Sidang  \n",
      "879     4.0  Seminar  \n",
      "894     3.5    Kelas  \n",
      "\n",
      "[593 rows x 10 columns]\n"
     ]
    }
   ],
   "source": [
    "# Hapus ruangan dengan status 'Tidak Aktif'\n",
    "cleaned_data = df[df['Status'] == 'Aktif']\n",
    "\n",
    "# Preview cleaned data\n",
    "print(cleaned_data)"
   ]
  },
  {
   "cell_type": "code",
   "execution_count": 3,
   "id": "61a61aea",
   "metadata": {},
   "outputs": [
    {
     "name": "stdout",
     "output_type": "stream",
     "text": [
      "      ID          Kode          Nama  Lantai          Fakultas Status  \\\n",
      "369  311       A.C.2.2  Ruang Kuliah       2  Fakultas Ekonomi  Aktif   \n",
      "260  336  A.D.1.4 (D3)  Ruang Kuliah       1  Fakultas Ekonomi  Aktif   \n",
      "265  328  A.D.3.2 (D3)  Ruang Kuliah       3  Fakultas Ekonomi  Aktif   \n",
      "267  306       A.B.3.1  Ruang Kuliah       3  Fakultas Ekonomi  Aktif   \n",
      "273  878      A.B.2.2B  Ruang Kuliah       2  Fakultas Ekonomi  Aktif   \n",
      "..   ...           ...           ...     ...               ...    ...   \n",
      "174  721           307       GKB-307       3               TPB  Aktif   \n",
      "173  217           202       GKB-202       2               TPB  Aktif   \n",
      "171  720           306       GKB-306       3               TPB  Aktif   \n",
      "190  712           205       GKB-205       2               TPB  Aktif   \n",
      "199  729           501       GKB-501       5               TPB  Aktif   \n",
      "\n",
      "     Kapasitas   Luas  Rating   Tujuan  \n",
      "369         40    NaN     4.1    Rapat  \n",
      "260         50    NaN     3.6   Sidang  \n",
      "265         50    NaN     4.6    Kelas  \n",
      "267         50    NaN     4.0    Rapat  \n",
      "273         45    NaN     4.3    Rapat  \n",
      "..         ...    ...     ...      ...  \n",
      "174         50  120.0     3.3  Seminar  \n",
      "173         50    NaN     4.2    Rapat  \n",
      "171         50  120.0     3.7  Seminar  \n",
      "190         50  120.0     4.1   Sidang  \n",
      "199         50  120.0     3.4    Kelas  \n",
      "\n",
      "[593 rows x 10 columns]\n"
     ]
    }
   ],
   "source": [
    "# Urutkan berdasarkan fakultas\n",
    "df_sorted = cleaned_data.sort_values(by='Fakultas')\n",
    "\n",
    "print(df_sorted)"
   ]
  },
  {
   "cell_type": "code",
   "execution_count": 4,
   "id": "75f5957c",
   "metadata": {},
   "outputs": [
    {
     "name": "stdout",
     "output_type": "stream",
     "text": [
      "      ID          Kode                             Nama  Lantai  \\\n",
      "570  275  A.A.3.Lab. 2                    Lab. Komputer       3   \n",
      "571  292       A.C.3.1                     Ruang Kuliah       3   \n",
      "667  893       A.E.1.2  Ruang Kuliah, seminar dan Ujian       1   \n",
      "894  347    A.D.1.Lab1                     Lab Komputer       1   \n",
      "380   43    C1_R.MIH A                Ruang Kelas MIH A       1   \n",
      "..   ...           ...                              ...     ...   \n",
      "176  717           303                          GKB-303       3   \n",
      "174  721           307                          GKB-307       3   \n",
      "171  720           306                          GKB-306       3   \n",
      "190  712           205                          GKB-205       2   \n",
      "199  729           501                          GKB-501       5   \n",
      "\n",
      "             Fakultas Status  Kapasitas    Luas  Rating   Tujuan  \n",
      "570  Fakultas Ekonomi  Aktif         20    0.00     4.1    Rapat  \n",
      "571  Fakultas Ekonomi  Aktif         20   66.75     4.4    Rapat  \n",
      "667  Fakultas Ekonomi  Aktif         10    0.00     3.8  Seminar  \n",
      "894  Fakultas Ekonomi  Aktif          0    0.00     3.5    Kelas  \n",
      "380    Fakultas Hukum  Aktif         40   80.00     3.6   Sidang  \n",
      "..                ...    ...        ...     ...     ...      ...  \n",
      "176               TPB  Aktif         50  120.00     3.5   Sidang  \n",
      "174               TPB  Aktif         50  120.00     3.3  Seminar  \n",
      "171               TPB  Aktif         50  120.00     3.7  Seminar  \n",
      "190               TPB  Aktif         50  120.00     4.1   Sidang  \n",
      "199               TPB  Aktif         50  120.00     3.4    Kelas  \n",
      "\n",
      "[437 rows x 10 columns]\n"
     ]
    }
   ],
   "source": [
    "df_sorted.replace('NA', pd.NA, inplace=True)\n",
    "\n",
    "# Menghapus baris dengan nilai NaN\n",
    "df_cleaned = df_sorted.dropna()\n",
    "\n",
    "# Menampilkan DataFrame yang sudah dibersihkan\n",
    "print(df_cleaned)"
   ]
  },
  {
   "cell_type": "code",
   "execution_count": 5,
   "id": "cf2d027c",
   "metadata": {},
   "outputs": [],
   "source": [
    "# Opsional: Menyimpan DataFrame yang sudah dibersihkan ke file CSV\n",
    "df_cleaned.to_csv('nama_file_bersih.csv', index=False)"
   ]
  },
  {
   "cell_type": "markdown",
   "id": "067f17fb",
   "metadata": {},
   "source": [
    "# CONTENT BASED FILTERING"
   ]
  },
  {
   "cell_type": "code",
   "execution_count": 6,
   "id": "f09e4869",
   "metadata": {},
   "outputs": [],
   "source": [
    "from sklearn.metrics.pairwise import cosine_similarity\n",
    "from sklearn.feature_extraction.text import TfidfVectorizer\n",
    "from sklearn.feature_extraction.text import CountVectorizer\n",
    "from sklearn.preprocessing import LabelEncoder"
   ]
  },
  {
   "cell_type": "code",
   "execution_count": 11,
   "id": "de252be6",
   "metadata": {},
   "outputs": [],
   "source": [
    "df_cleaned = df.copy()\n",
    "df_cleaned.loc[:, 'combined_features'] = df_cleaned.apply(lambda row: f\"{row['Lantai']} {row['Fakultas']} {row['Kapasitas']} {row['Rating']} {row['Tujuan']}\", axis=1)"
   ]
  },
  {
   "cell_type": "code",
   "execution_count": 12,
   "id": "08acfeee",
   "metadata": {},
   "outputs": [],
   "source": [
    "# Inisialisasi CountVectorizer untuk mengubah teks menjadi vektor fitur\n",
    "count = CountVectorizer()\n",
    "count_matrix = count.fit_transform(df_cleaned['combined_features'])\n",
    "\n",
    "# Menghitung matriks kemiripan kosinus berdasarkan vektor fitur\n",
    "cosine_sim = cosine_similarity(count_matrix, count_matrix)"
   ]
  },
  {
   "cell_type": "code",
   "execution_count": 13,
   "id": "90d2113a",
   "metadata": {},
   "outputs": [],
   "source": [
    "# Fungsi untuk mendapatkan rekomendasi berdasarkan kesamaan kosinus\n",
    "def get_content_based_recommendations(room_id, df_cleaned, cosine_sim, top_n=5):\n",
    "    idx = df_cleaned.index[df_cleaned['ID'] == room_id].tolist()[0]\n",
    "    sim_scores = list(enumerate(cosine_sim[idx]))\n",
    "    sim_scores = sorted(sim_scores, key=lambda x: x[1], reverse=True)\n",
    "    sim_scores = sim_scores[1:top_n+1]  \n",
    "    room_indices = [i[0] for i in sim_scores]\n",
    "    return df_cleaned.iloc[room_indices]"
   ]
  },
  {
   "cell_type": "code",
   "execution_count": 14,
   "id": "752b6c8c",
   "metadata": {},
   "outputs": [
    {
     "name": "stdout",
     "output_type": "stream",
     "text": [
      "Content-Based Recommendations:\n",
      "     ID                     Nama  Lantai  \\\n",
      "4   193       Ruang Sidang Senat       3   \n",
      "41  818         PENDIDIKAN KIMIA       1   \n",
      "75  809               S1 PG-PAUD       1   \n",
      "85  264  S1 PENDIDIKAN SOSIOLOGI       1   \n",
      "91  231             Ruang Kuliah       3   \n",
      "\n",
      "                                 Fakultas  Kapasitas    Luas  Rating   Tujuan  \n",
      "4   Fakultas Keguruan dan Ilmu Pendidikan        200  296.00     3.9  Seminar  \n",
      "41  Fakultas Keguruan dan Ilmu Pendidikan         80   92.16     3.7  Seminar  \n",
      "75  Fakultas Keguruan dan Ilmu Pendidikan         70  117.39     4.1  Seminar  \n",
      "85  Fakultas Keguruan dan Ilmu Pendidikan         60  100.78     3.5  Seminar  \n",
      "91  Fakultas Keguruan dan Ilmu Pendidikan         60   94.71     3.7  Seminar  \n"
     ]
    }
   ],
   "source": [
    "# Mendapatkan rekomendasi untuk ruangan dengan ID 227\n",
    "room_id = 227\n",
    "recommendations = get_content_based_recommendations(room_id, df_cleaned, cosine_sim)\n",
    "print(\"Content-Based Recommendations:\")\n",
    "print(recommendations[['ID', 'Nama', 'Lantai', 'Fakultas', 'Kapasitas', 'Luas', 'Rating', 'Tujuan']])"
   ]
  },
  {
   "cell_type": "code",
   "execution_count": null,
   "id": "ddda586f",
   "metadata": {},
   "outputs": [],
   "source": []
  }
 ],
 "metadata": {
  "kernelspec": {
   "display_name": "Python 3 (ipykernel)",
   "language": "python",
   "name": "python3"
  },
  "language_info": {
   "codemirror_mode": {
    "name": "ipython",
    "version": 3
   },
   "file_extension": ".py",
   "mimetype": "text/x-python",
   "name": "python",
   "nbconvert_exporter": "python",
   "pygments_lexer": "ipython3",
   "version": "3.8.18"
  }
 },
 "nbformat": 4,
 "nbformat_minor": 5
}
