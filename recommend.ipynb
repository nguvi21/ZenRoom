{
 "cells": [
  {
   "cell_type": "markdown",
   "metadata": {},
   "source": [
    "# CONTENT BASED FILTERING"
   ]
  },
  {
   "cell_type": "markdown",
   "metadata": {},
   "source": [
    "## Import Library"
   ]
  },
  {
   "cell_type": "code",
   "execution_count": 42,
   "metadata": {},
   "outputs": [],
   "source": [
    "import os\n",
    "import pandas as pd\n",
    "import numpy as np\n",
    "import tensorflow as tf\n",
    "from sklearn.metrics.pairwise import cosine_similarity\n",
    "from sklearn.feature_extraction.text import TfidfVectorizer\n",
    "from sklearn.feature_extraction.text import CountVectorizer\n",
    "from sklearn.preprocessing import LabelEncoder"
   ]
  },
  {
   "cell_type": "code",
   "execution_count": 2,
   "metadata": {},
   "outputs": [],
   "source": [
    "file_path = r'C:\\Users\\user\\Documents\\ZENROOM\\dataset_ruangan.csv'\n",
    "df = pd.read_csv(file_path)"
   ]
  },
  {
   "cell_type": "code",
   "execution_count": 14,
   "metadata": {},
   "outputs": [
    {
     "name": "stdout",
     "output_type": "stream",
     "text": [
      "Initial Dataset:\n",
      "    ID Kode                         Nama  Lantai  \\\n",
      "0  739  NaN  Ruang Scienfic Lecture Hall       1   \n",
      "1  736  103                          NaN       1   \n",
      "2  227  303                         AULA       3   \n",
      "3   83  102                          NaN       1   \n",
      "4  193  NaN           Ruang Sidang Senat       3   \n",
      "\n",
      "                                Fakultas       Status  Kapasitas     Luas  \\\n",
      "0                                    TPB  Tidak Aktif        500   750.00   \n",
      "1                                    TPB  Tidak Aktif        210     0.00   \n",
      "2  Fakultas Keguruan dan Ilmu Pendidikan        Aktif        200   218.90   \n",
      "3                        Fakultas Teknik  Tidak Aktif        200  1108.42   \n",
      "4  Fakultas Keguruan dan Ilmu Pendidikan        Aktif        200   296.00   \n",
      "\n",
      "   Rating   Tujuan  \n",
      "0     4.2   Sidang  \n",
      "1     4.3    Kelas  \n",
      "2     3.9  Seminar  \n",
      "3     3.5   Sidang  \n",
      "4     3.9  Seminar  \n"
     ]
    }
   ],
   "source": [
    "print(\"Initial Dataset:\")\n",
    "print(df.head())"
   ]
  },
  {
   "cell_type": "code",
   "execution_count": 15,
   "metadata": {},
   "outputs": [
    {
     "name": "stdout",
     "output_type": "stream",
     "text": [
      "\n",
      "Dataset after removing 'Tidak Aktif' rooms:\n",
      "    ID     Kode                Nama  Lantai  \\\n",
      "2  227      303                AULA       3   \n",
      "4  193      NaN  Ruang Sidang Senat       3   \n",
      "7  507     B3-E             Kelas E       3   \n",
      "8  510     B2-D             Kelas D       2   \n",
      "9  577  ATB.3.1             ATB.3.1       3   \n",
      "\n",
      "                                Fakultas Status  Kapasitas   Luas  Rating  \\\n",
      "2  Fakultas Keguruan dan Ilmu Pendidikan  Aktif        200  218.9     3.9   \n",
      "4  Fakultas Keguruan dan Ilmu Pendidikan  Aktif        200  296.0     3.9   \n",
      "7                    Fakultas Kedokteran  Aktif        160  220.0     3.9   \n",
      "8                    Fakultas Kedokteran  Aktif        160  220.0     3.6   \n",
      "9                    Fakultas Peternakan  Aktif        150  150.0     3.5   \n",
      "\n",
      "    Tujuan  \n",
      "2  Seminar  \n",
      "4  Seminar  \n",
      "7    Kelas  \n",
      "8  Seminar  \n",
      "9  Seminar  \n"
     ]
    }
   ],
   "source": [
    "# Hapus ruangan dengan status 'Tidak Aktif'\n",
    "cleaned_data = df[df['Status'] == 'Aktif']\n",
    "\n",
    "# Preview cleaned data\n",
    "print(\"\\nDataset after removing 'Tidak Aktif' rooms:\")\n",
    "print(cleaned_data.head())"
   ]
  },
  {
   "cell_type": "code",
   "execution_count": 5,
   "metadata": {},
   "outputs": [],
   "source": [
    "# Urutkan berdasarkan fakultas\n",
    "df_sorted = cleaned_data.sort_values(by='Fakultas')"
   ]
  },
  {
   "cell_type": "code",
   "execution_count": 6,
   "metadata": {},
   "outputs": [
    {
     "name": "stdout",
     "output_type": "stream",
     "text": [
      "      ID          Kode          Nama  Lantai          Fakultas Status  \\\n",
      "369  311       A.C.2.2  Ruang Kuliah       2  Fakultas Ekonomi  Aktif   \n",
      "260  336  A.D.1.4 (D3)  Ruang Kuliah       1  Fakultas Ekonomi  Aktif   \n",
      "265  328  A.D.3.2 (D3)  Ruang Kuliah       3  Fakultas Ekonomi  Aktif   \n",
      "267  306       A.B.3.1  Ruang Kuliah       3  Fakultas Ekonomi  Aktif   \n",
      "273  878      A.B.2.2B  Ruang Kuliah       2  Fakultas Ekonomi  Aktif   \n",
      "..   ...           ...           ...     ...               ...    ...   \n",
      "174  721           307       GKB-307       3               TPB  Aktif   \n",
      "173  217           202       GKB-202       2               TPB  Aktif   \n",
      "171  720           306       GKB-306       3               TPB  Aktif   \n",
      "190  712           205       GKB-205       2               TPB  Aktif   \n",
      "199  729           501       GKB-501       5               TPB  Aktif   \n",
      "\n",
      "     Kapasitas   Luas  Rating   Tujuan  \n",
      "369         40    NaN     4.1    Rapat  \n",
      "260         50    NaN     3.6   Sidang  \n",
      "265         50    NaN     4.6    Kelas  \n",
      "267         50    NaN     4.0    Rapat  \n",
      "273         45    NaN     4.3    Rapat  \n",
      "..         ...    ...     ...      ...  \n",
      "174         50  120.0     3.3  Seminar  \n",
      "173         50    NaN     4.2    Rapat  \n",
      "171         50  120.0     3.7  Seminar  \n",
      "190         50  120.0     4.1   Sidang  \n",
      "199         50  120.0     3.4    Kelas  \n",
      "\n",
      "[593 rows x 10 columns]\n"
     ]
    }
   ],
   "source": [
    "print(df_sorted)"
   ]
  },
  {
   "cell_type": "code",
   "execution_count": 7,
   "metadata": {},
   "outputs": [],
   "source": [
    "df_sorted.replace('NA', pd.NA, inplace=True)\n",
    "\n",
    "# Menghapus baris dengan nilai NaN\n",
    "df_cleaned = df_sorted.dropna()"
   ]
  },
  {
   "cell_type": "code",
   "execution_count": 16,
   "metadata": {},
   "outputs": [
    {
     "name": "stdout",
     "output_type": "stream",
     "text": [
      "\n",
      "Cleaned Dataset:\n",
      "      ID          Kode                             Nama  Lantai  \\\n",
      "570  275  A.A.3.Lab. 2                    Lab. Komputer       3   \n",
      "571  292       A.C.3.1                     Ruang Kuliah       3   \n",
      "667  893       A.E.1.2  Ruang Kuliah, seminar dan Ujian       1   \n",
      "894  347    A.D.1.Lab1                     Lab Komputer       1   \n",
      "380   43    C1_R.MIH A                Ruang Kelas MIH A       1   \n",
      "\n",
      "             Fakultas Status  Kapasitas   Luas  Rating   Tujuan  \n",
      "570  Fakultas Ekonomi  Aktif         20   0.00     4.1    Rapat  \n",
      "571  Fakultas Ekonomi  Aktif         20  66.75     4.4    Rapat  \n",
      "667  Fakultas Ekonomi  Aktif         10   0.00     3.8  Seminar  \n",
      "894  Fakultas Ekonomi  Aktif          0   0.00     3.5    Kelas  \n",
      "380    Fakultas Hukum  Aktif         40  80.00     3.6   Sidang  \n"
     ]
    }
   ],
   "source": [
    "# Menghapus baris dengan nilai NaN\n",
    "df_cleaned = df_sorted.dropna()\n",
    "\n",
    "# Menampilkan DataFrame yang sudah dibersihkan\n",
    "print(\"\\nCleaned Dataset:\")\n",
    "print(df_cleaned.head())"
   ]
  },
  {
   "cell_type": "code",
   "execution_count": 9,
   "metadata": {},
   "outputs": [],
   "source": [
    "# Opsional: Menyimpan DataFrame yang sudah dibersihkan ke file CSV\n",
    "df_cleaned.to_csv('cleaning_data.csv', index=False)"
   ]
  },
  {
   "cell_type": "markdown",
   "metadata": {},
   "source": [
    "## Preprocessing-Data"
   ]
  },
  {
   "cell_type": "code",
   "execution_count": 26,
   "metadata": {},
   "outputs": [
    {
     "name": "stderr",
     "output_type": "stream",
     "text": [
      "C:\\Users\\user\\AppData\\Local\\Temp\\ipykernel_17128\\2333381807.py:2: SettingWithCopyWarning: \n",
      "A value is trying to be set on a copy of a slice from a DataFrame.\n",
      "Try using .loc[row_indexer,col_indexer] = value instead\n",
      "\n",
      "See the caveats in the documentation: https://pandas.pydata.org/pandas-docs/stable/user_guide/indexing.html#returning-a-view-versus-a-copy\n",
      "  df_cleaned['combined_features'] = df_cleaned.apply(lambda row: f\"{row['Lantai']} {row['Fakultas']} {row['Kapasitas']} {row['Rating']} {row['Tujuan']}\", axis=1)\n"
     ]
    }
   ],
   "source": [
    "# Membuat fitur gabungan dari beberapa kolom untuk content-based filtering\n",
    "df_cleaned['combined_features'] = df_cleaned.apply(lambda row: f\"{row['Lantai']} {row['Fakultas']} {row['Kapasitas']} {row['Rating']} {row['Tujuan']}\", axis=1)\n",
    "\n",
    "# Inisialisasi CountVectorizer untuk mengubah teks menjadi vektor fitur\n",
    "from sklearn.feature_extraction.text import CountVectorizer\n",
    "count = CountVectorizer()\n",
    "count_matrix = count.fit_transform(df_cleaned['combined_features'])\n",
    "\n",
    "# Menghitung matriks kemiripan kosinus berdasarkan vektor fitur\n",
    "from sklearn.metrics.pairwise import cosine_similarity\n",
    "cosine_sim = cosine_similarity(count_matrix, count_matrix)\n",
    "\n",
    "# Simpan matriks kemiripan untuk penggunaan di masa depan\n",
    "np.save('cosine_sim.npy', cosine_sim)\n",
    "\n",
    "# Simpan DataFrame yang telah dibersihkan\n",
    "df_cleaned.to_csv('final_cleaned_data.csv', index=False)"
   ]
  },
  {
   "cell_type": "markdown",
   "metadata": {},
   "source": [
    "## Building models, Training, and Testing"
   ]
  },
  {
   "cell_type": "markdown",
   "metadata": {},
   "source": [
    "*Pada tahap ini, saya berfokus pada penerapan model rekomendasi berbasis konten dan konversi ke TensorFlow Lite. Pertama, dilakukan pembacaan matriks similarity kosinus yang telah disimpan ('cosine_sim.npy') dan DataFrame akhir yang telah dibersihkan ('final_cleaned_data.csv'). Fungsi `get_content_based_recommendations` digunakan untuk memberikan rekomendasi ruangan berdasarkan similarity terhadap ruangan dengan ID tertentu. Jika ID ruangan tidak ditemukan dalam dataset, akan dihasilkan pesan kesalahan. Contoh penggunaan model diberikan dengan ID ruangan 347, yang menghasilkan rekomendasi berdasarkan similarity tertinggi dengan ruangan tersebut, dengan menampilkan atribut-atribut penting seperti ID, Nama, Lantai, Fakultas, Kapasitas, Luas, Rating, dan Tujuan.*"
   ]
  },
  {
   "cell_type": "code",
   "execution_count": 39,
   "metadata": {},
   "outputs": [
    {
     "name": "stdout",
     "output_type": "stream",
     "text": [
      "Content-Based Recommendations:\n",
      "    ID                             Nama  Lantai          Fakultas  Kapasitas  \\\n",
      "0  275                    Lab. Komputer       3  Fakultas Ekonomi         20   \n",
      "1  292                     Ruang Kuliah       3  Fakultas Ekonomi         20   \n",
      "2  893  Ruang Kuliah, seminar dan Ujian       1  Fakultas Ekonomi         10   \n",
      "5   26                 Ruang Kelas AH.7       2    Fakultas Hukum         80   \n",
      "9   38                Ruang Kelas AH.18       3    Fakultas Hukum         80   \n",
      "\n",
      "    Luas  Rating   Tujuan  \n",
      "0   0.00     4.1    Rapat  \n",
      "1  66.75     4.4    Rapat  \n",
      "2   0.00     3.8  Seminar  \n",
      "5  80.00     4.6    Kelas  \n",
      "9  80.00     4.2    Kelas  \n"
     ]
    }
   ],
   "source": [
    "# Load cosine similarity matrix\n",
    "cosine_sim = np.load(r'C:\\Users\\user\\Documents\\ZENROOM\\cosine_sim.npy')\n",
    "\n",
    "# Load final cleaned DataFrame\n",
    "df_cleaned = pd.read_csv(r'C:\\Users\\user\\Documents\\ZENROOM\\final_cleaned_data.csv')\n",
    "\n",
    "# Contoh penggunaan model untuk mendapatkan rekomendasi\n",
    "def get_content_based_recommendations(room_id, df_cleaned, cosine_sim, top_n=5):\n",
    "    if room_id not in df_cleaned['ID'].values:\n",
    "        raise ValueError(f\"Room ID {room_id} tidak ditemukan dalam dataset.\")\n",
    "    idx = df_cleaned.index[df_cleaned['ID'] == room_id].tolist()[0]\n",
    "    sim_scores = list(enumerate(cosine_sim[idx]))\n",
    "    sim_scores = sorted(sim_scores, key=lambda x: x[1], reverse=True)\n",
    "    sim_scores = sim_scores[1:top_n+1]\n",
    "    room_indices = [i[0] for i in sim_scores]\n",
    "    return df_cleaned.iloc[room_indices]\n",
    "\n",
    "# Contoh penggunaan model\n",
    "room_id = 347\n",
    "try:\n",
    "    recommendations = get_content_based_recommendations(room_id, df_cleaned, cosine_sim)\n",
    "    # Tampilkan hasil rekomendasi\n",
    "    print(\"Content-Based Recommendations:\")\n",
    "    print(recommendations[['ID', 'Nama', 'Lantai', 'Fakultas', 'Kapasitas', 'Luas', 'Rating', 'Tujuan']])\n",
    "except ValueError as e:\n",
    "    print(e)"
   ]
  },
  {
   "cell_type": "code",
   "execution_count": 52,
   "metadata": {},
   "outputs": [
    {
     "name": "stdout",
     "output_type": "stream",
     "text": [
      "INFO:tensorflow:Assets written to: content_based_model_tf\\assets\n",
      "Model TensorFlow telah tersimpan di 'content_based_model_tf'.\n"
     ]
    }
   ],
   "source": [
    "# Load cleaned dataframe and similarity matrix\n",
    "df_cleaned = pd.read_csv('final_cleaned_data.csv')\n",
    "cosine_sim = np.load('cosine_sim.npy')\n",
    "\n",
    "# Create a tensor version of the dataframe\n",
    "df_ids = df_cleaned['ID'].values.astype(np.int32)\n",
    "df_ids_tensor = tf.constant(df_ids)\n",
    "\n",
    "class ContentBasedModel(tf.Module):\n",
    "    def __init__(self, sim_matrix, df_ids_tensor):\n",
    "        super(ContentBasedModel, self).__init__()\n",
    "        self.sim_matrix = tf.convert_to_tensor(sim_matrix, dtype=tf.float32)\n",
    "        self.df_ids_tensor = tf.convert_to_tensor(df_ids_tensor, dtype=tf.int32)\n",
    "    \n",
    "    @tf.function(input_signature=[tf.TensorSpec(shape=(), dtype=tf.int32)])\n",
    "    def recommend(self, room_id):\n",
    "        room_idx = tf.where(self.df_ids_tensor == room_id)[0][0]\n",
    "        sim_scores = self.sim_matrix[room_idx]\n",
    "        top_indices = tf.argsort(sim_scores, direction='DESCENDING')[1:6]\n",
    "        return top_indices\n",
    "\n",
    "# Instantiate the model\n",
    "model = ContentBasedModel(cosine_sim, df_ids_tensor)\n",
    "\n",
    "# Save the model\n",
    "tf.saved_model.save(model, \"content_based_model_tf\")\n",
    "\n",
    "print(\"Model TensorFlow telah tersimpan di 'content_based_model_tf'.\")"
   ]
  },
  {
   "cell_type": "code",
   "execution_count": 53,
   "metadata": {},
   "outputs": [
    {
     "name": "stdout",
     "output_type": "stream",
     "text": [
      "Model has been converted to TensorFlow Lite and saved as 'content_based_model.tflite'.\n"
     ]
    }
   ],
   "source": [
    "# Convert to TensorFlow Lite model\n",
    "converter = tf.lite.TFLiteConverter.from_saved_model(\"content_based_model_tf\")\n",
    "tflite_model = converter.convert()\n",
    "\n",
    "# Save the TensorFlow Lite model\n",
    "with open(\"content_based_model.tflite\", \"wb\") as f:\n",
    "    f.write(tflite_model)\n",
    "\n",
    "print(\"Model has been converted to TensorFlow Lite and saved as 'content_based_model.tflite'.\")"
   ]
  },
  {
   "cell_type": "code",
   "execution_count": 64,
   "metadata": {},
   "outputs": [
    {
     "name": "stdout",
     "output_type": "stream",
     "text": [
      "Content-Based Recommendations:\n",
      "ID                           514\n",
      "Nama           Lab. Mikrobiologi\n",
      "Lantai                         1\n",
      "Fakultas     Fakultas Kedokteran\n",
      "Kapasitas                     25\n",
      "Luas                        20.0\n",
      "Rating                       3.3\n",
      "Tujuan                   Seminar\n",
      "Name: 84, dtype: object\n",
      "ID                           534\n",
      "Nama           OSCE CENTER 2- R1\n",
      "Lantai                         2\n",
      "Fakultas     Fakultas Kedokteran\n",
      "Kapasitas                     12\n",
      "Luas                        16.0\n",
      "Rating                       3.8\n",
      "Tujuan                   Seminar\n",
      "Name: 36, dtype: object\n",
      "ID                           532\n",
      "Nama           OSCE CENTER 2- R3\n",
      "Lantai                         2\n",
      "Fakultas     Fakultas Kedokteran\n",
      "Kapasitas                     12\n",
      "Luas                        16.0\n",
      "Rating                       3.0\n",
      "Tujuan                   Seminar\n",
      "Name: 44, dtype: object\n",
      "ID                           531\n",
      "Nama           OSCE CENTER 2- R4\n",
      "Lantai                         2\n",
      "Fakultas     Fakultas Kedokteran\n",
      "Kapasitas                     12\n",
      "Luas                        16.0\n",
      "Rating                       4.1\n",
      "Tujuan                   Seminar\n",
      "Name: 46, dtype: object\n",
      "ID                           558\n",
      "Nama            OSCE CENTER 1-R5\n",
      "Lantai                         1\n",
      "Fakultas     Fakultas Kedokteran\n",
      "Kapasitas                     12\n",
      "Luas                        16.0\n",
      "Rating                       3.6\n",
      "Tujuan                   Seminar\n",
      "Name: 50, dtype: object\n"
     ]
    }
   ],
   "source": [
    "# Load cleaned dataframe\n",
    "df_cleaned = pd.read_csv('final_cleaned_data.csv')\n",
    "\n",
    "# Pastikan file model tflite ada di jalur yg benar\n",
    "model_path = \"content_based_model.tflite\"\n",
    "\n",
    "# Periksa apakah file model ada\n",
    "if not os.path.exists(model_path):\n",
    "    raise ValueError(f\"Model file '{model_path}' tidak ditemukan. Pastikan file tersebut ada di direktori yang benar.\")\n",
    "\n",
    "# Load TensorFlow Lite model\n",
    "interpreter = tf.lite.Interpreter(model_path=model_path)\n",
    "interpreter.allocate_tensors()\n",
    "\n",
    "# Input details\n",
    "input_details = interpreter.get_input_details()\n",
    "output_details = interpreter.get_output_details()\n",
    "\n",
    "# Masukkan ID ruangan yg ingin direkomendasikan\n",
    "room_id = 514\n",
    "\n",
    "# Konversi ID ke bentuk yang sesuai dengan input model\n",
    "input_data = np.array([room_id], dtype=np.int32).reshape(input_details[0]['shape'])\n",
    "interpreter.set_tensor(input_details[0]['index'], input_data)\n",
    "\n",
    "# Jalankan inferensi\n",
    "interpreter.invoke()\n",
    "\n",
    "# Dapatkan output\n",
    "output_data = interpreter.get_tensor(output_details[0]['index'])\n",
    "\n",
    "# Tampilkan hasil rekomendasi\n",
    "recommended_indices = output_data \n",
    "print(\"Content-Based Recommendations:\")\n",
    "for idx in recommended_indices:\n",
    "    print(df_cleaned.iloc[idx][['ID', 'Nama', 'Lantai', 'Fakultas', 'Kapasitas', 'Luas', 'Rating', 'Tujuan']])\n"
   ]
  },
  {
   "cell_type": "markdown",
   "metadata": {},
   "source": [
    "*Code tersebut bertujuan untuk melakukan integrasi model TensorFlow Lite yang telah disimpan (`content_based_model.tflite`) dengan aplikasi untuk memberikan rekomendasi berbasis konten. Pertama, kode memuat DataFrame yang telah dibersihkan dari file CSV (`final_cleaned_data.csv`). Kemudian, dilakukan pemeriksaan apakah file model TFLite (`content_based_model.tflite`) ada di jalur yang benar. Jika file tidak ditemukan, program akan menghasilkan error. Setelah memastikan keberadaan file model, TensorFlow Lite model diinisialisasi menggunakan `tf.lite.Interpreter` dan dilakukan alokasi tensor. Selanjutnya, kode menentukan detail input dan output dari model, lalu mempersiapkan data input berupa ID ruangan (`room_id`) yang ingin direkomendasikan. ID ini diubah menjadi format yang sesuai dengan input model dan di-set sebagai tensor input. Setelah itu, dilakukan inferensi dengan memanggil `interpreter.invoke()` untuk mendapatkan output dari model. Output ini berisi indeks-indeks ruangan yang direkomendasikan. Akhirnya, kode menampilkan hasil rekomendasi berbasis konten dengan menampilkan kolom-kolom relevan dari DataFrame (`df_cleaned`) menggunakan indeks-indeks yang diperoleh dari output model TensorFlow Lite.*"
   ]
  },
  {
   "cell_type": "code",
   "execution_count": null,
   "metadata": {},
   "outputs": [],
   "source": [
    "# # Tampilkan hasil rekomendasi\n",
    "# print(\"Content-Based Recommendations:\")\n",
    "# print(recommendations[['ID', 'Nama', 'Lantai', 'Fakultas', 'Kapasitas', 'Luas', 'Rating', 'Tujuan']])"
   ]
  },
  {
   "cell_type": "markdown",
   "metadata": {},
   "source": [
    "## Finalizing"
   ]
  },
  {
   "cell_type": "markdown",
   "metadata": {},
   "source": [
    "*Pada langkah terakhir ini, fokusnya adalah pada finalisasi model dan penggunaan praktisnya. Fungsi `load_model_and_recommend` dimaksudkan untuk memuat model dan menghasilkan rekomendasi berbasis konten untuk ruangan dengan ID tertentu. Matriks similarity kosinus dan DataFrame yang sudah dibersihkan dimuat kembali, kemudian fungsi `get_content_based_recommendations` dipanggil untuk menghasilkan rekomendasi. Jika ID ruangan tidak ditemukan, akan ditampilkan pesan kesalahan dan sebuah DataFrame kosong akan dikembalikan. Contoh penggunaan dilakukan dengan menggunakan ID ruangan 227, yang menghasilkan rekomendasi berdasarkan similarity tertinggi dengan ruangan tersebut. Hasil rekomendasi akhir ditampilkan dalam format yang sama dengan mencakup atribut-atribut seperti ID, Nama, Lantai, Fakultas, Kapasitas, Luas, Rating, dan Tujuan dari ruangan yang direkomendasikan.*"
   ]
  },
  {
   "cell_type": "code",
   "execution_count": 65,
   "metadata": {},
   "outputs": [
    {
     "name": "stdout",
     "output_type": "stream",
     "text": [
      "Final Content-Based Recommendations:\n",
      "     ID               Nama  Lantai             Fakultas  Kapasitas  Luas  \\\n",
      "84  514  Lab. Mikrobiologi       1  Fakultas Kedokteran         25  20.0   \n",
      "36  534  OSCE CENTER 2- R1       2  Fakultas Kedokteran         12  16.0   \n",
      "44  532  OSCE CENTER 2- R3       2  Fakultas Kedokteran         12  16.0   \n",
      "46  531  OSCE CENTER 2- R4       2  Fakultas Kedokteran         12  16.0   \n",
      "50  558   OSCE CENTER 1-R5       1  Fakultas Kedokteran         12  16.0   \n",
      "\n",
      "    Rating   Tujuan  \n",
      "84     3.3  Seminar  \n",
      "36     3.8  Seminar  \n",
      "44     3.0  Seminar  \n",
      "46     4.1  Seminar  \n",
      "50     3.6  Seminar  \n"
     ]
    }
   ],
   "source": [
    "# Fungsi untuk memuat model dan membuat rekomendasi\n",
    "def load_model_and_recommend(room_id, top_n=5):\n",
    "    cosine_sim = np.load('cosine_sim.npy')\n",
    "    df_cleaned = pd.read_csv('final_cleaned_data.csv')\n",
    "    try:\n",
    "        recommendations = get_content_based_recommendations(room_id, df_cleaned, cosine_sim, top_n)\n",
    "        return recommendations\n",
    "    except ValueError as e:\n",
    "        print(e)\n",
    "        return pd.DataFrame()\n",
    "\n",
    "# Contoh penggunaan model yg telah disimpan\n",
    "room_id =  514\n",
    "final_recommendations = load_model_and_recommend(room_id)\n",
    "\n",
    "# Tampilkan rekomendasi akhir\n",
    "if not final_recommendations.empty:\n",
    "    print(\"Final Content-Based Recommendations:\")\n",
    "    print(final_recommendations[['ID', 'Nama', 'Lantai', 'Fakultas', 'Kapasitas', 'Luas', 'Rating', 'Tujuan']])\n"
   ]
  },
  {
   "cell_type": "markdown",
   "metadata": {},
   "source": [
    "## penerapan ke dalam tensorflow lite"
   ]
  },
  {
   "cell_type": "code",
   "execution_count": null,
   "metadata": {},
   "outputs": [],
   "source": [
    "# # Load cleaned dataframe\n",
    "# df_cleaned = pd.read_csv('final_cleaned_data.csv')\n",
    "\n",
    "# # Pastikan file model tflite ada di jalur yang benar\n",
    "# model_path = \"content_based_model.tflite\"\n",
    "\n",
    "# # Periksa apakah file model ada\n",
    "# if not os.path.exists(model_path):\n",
    "#     raise ValueError(f\"Model file '{model_path}' tidak ditemukan. Pastikan file tersebut ada di direktori yang benar.\")\n",
    "\n",
    "# # Load TensorFlow Lite model\n",
    "# interpreter = tf.lite.Interpreter(model_path=model_path)\n",
    "# interpreter.allocate_tensors()\n",
    "\n",
    "# # Input details\n",
    "# input_details = interpreter.get_input_details()\n",
    "# output_details = interpreter.get_output_details()\n",
    "\n",
    "# # Masukkan ID ruangan yang ingin direkomendasikan\n",
    "# room_id = 227\n",
    "\n",
    "# # Konversi ID ke bentuk yang sesuai dengan input model\n",
    "# input_data = np.array([room_id], dtype=np.int32).reshape(input_details[0]['shape'])\n",
    "# interpreter.set_tensor(input_details[0]['index'], input_data)\n",
    "\n",
    "# # Jalankan inferensi\n",
    "# interpreter.invoke()\n",
    "\n",
    "# # Dapatkan output\n",
    "# output_data = interpreter.get_tensor(output_details[0]['index'])\n",
    "\n",
    "# # Tampilkan hasil rekomendasi\n",
    "# recommended_indices = output_data[0]  # Ambil rekomendasi\n",
    "# print(\"Content-Based Recommendations:\")\n",
    "# for idx in recommended_indices:\n",
    "#     print(df_cleaned.iloc[idx][['ID', 'Nama', 'Lantai', 'Fakultas', 'Kapasitas', 'Luas', 'Rating', 'Tujuan']])\n"
   ]
  }
 ],
 "metadata": {
  "kernelspec": {
   "display_name": "Le444n",
   "language": "python",
   "name": "python3"
  },
  "language_info": {
   "codemirror_mode": {
    "name": "ipython",
    "version": 3
   },
   "file_extension": ".py",
   "mimetype": "text/x-python",
   "name": "python",
   "nbconvert_exporter": "python",
   "pygments_lexer": "ipython3",
   "version": "3.8.18"
  }
 },
 "nbformat": 4,
 "nbformat_minor": 2
}
